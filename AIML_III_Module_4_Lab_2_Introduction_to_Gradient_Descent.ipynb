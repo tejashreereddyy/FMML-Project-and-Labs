{
  "nbformat": 4,
  "nbformat_minor": 0,
  "metadata": {
    "colab": {
      "provenance": [],
      "authorship_tag": "ABX9TyMz+Yp6mElIZhnJR5e/UpFf",
      "include_colab_link": true
    },
    "kernelspec": {
      "name": "python3",
      "display_name": "Python 3"
    },
    "language_info": {
      "name": "python"
    }
  },
  "cells": [
    {
      "cell_type": "markdown",
      "metadata": {
        "id": "view-in-github",
        "colab_type": "text"
      },
      "source": [
        "<a href=\"https://colab.research.google.com/github/tejashreereddyy/FMML-Project-and-Labs/blob/main/AIML_III_Module_4_Lab_2_Introduction_to_Gradient_Descent.ipynb\" target=\"_parent\"><img src=\"https://colab.research.google.com/assets/colab-badge.svg\" alt=\"Open In Colab\"/></a>"
      ]
    },
    {
      "cell_type": "markdown",
      "source": [
        "# **Students Internship Batch of 2024**\n",
        "# Module 4: Perceptron and Gradient Descent\n",
        "## Lab 2: Introduction to Gradient Descent\n",
        "Things to try\n",
        "\n",
        "Change the coefficients array and try a different polynomial instead of our x2.\n",
        "Increase/decrease the learning rate to see how many iterations will be take to coverge. Does it even converge on a huge learning rate?\n",
        "\n",
        "Take a degree 5 polynomial with 5 roots and try different initializations, instead of random ones. Does it converge on different values for different initializations? Why does initialization not matter in our case of x2?\n",
        "\n",
        "Can you modify the algorithm to find a maxima of a function, instead of a minima?\n",
        "1. Changing the Coefficients Array:\n",
        "You can try using a different polynomial instead of\n",
        "𝑥\n",
        "2\n",
        "\n",
        " . For example, you could try a cubic function like\n",
        "𝑥\n",
        "3\n",
        "−\n",
        "2\n",
        "𝑥\n",
        "2\n",
        "+\n",
        "3\n",
        "𝑥\n",
        " and see how gradient descent behaves."
      ],
      "metadata": {
        "id": "Bstg8zhrOtu1"
      }
    },
    {
      "cell_type": "code",
      "source": [
        "import numpy as np\n",
        "import matplotlib.pyplot as plt\n",
        "\n",
        "# Gradient descent function\n",
        "def gradient_descent(X, y, theta, learning_rate, iterations):\n",
        "    m = len(y)\n",
        "    loss_history = []\n",
        "\n",
        "    for _ in range(iterations):\n",
        "        predictions = X.dot(theta)\n",
        "        errors = predictions - y\n",
        "        gradients = (1/m) * X.T.dot(errors)\n",
        "        theta -= learning_rate * gradients\n",
        "        loss = (1/(2*m)) * np.sum(errors**2)\n",
        "        loss_history.append(loss)\n",
        "\n",
        "    return theta, loss_history\n",
        "\n",
        "# Polynomial function, degree 3\n",
        "X = np.linspace(-10, 10, 100)\n",
        "y = X**3 - 2*X**2 + 3*X + np.random.randn(*X.shape) * 10  # Adding noise\n",
        "X_b = np.c_[np.ones((len(X), 1)), X, X**2, X**3]  # Features: x, x^2, x^3\n",
        "\n",
        "theta = np.random.randn(4)  # Random initialization for 4 coefficients\n",
        "learning_rate = 0.01\n",
        "iterations = 1000\n",
        "\n",
        "theta, loss_history = gradient_descent(X_b, y, theta, learning_rate, iterations)\n",
        "\n",
        "# Plotting the loss over iterations\n",
        "plt.plot(loss_history)\n",
        "plt.xlabel(\"Iterations\")\n",
        "plt.ylabel(\"Loss\")\n",
        "plt.title(\"Loss over Iterations\")\n",
        "plt.show()\n",
        "\n",
        "# Final coefficients\n",
        "print(f\"Coefficients: {theta}\")\n"
      ],
      "metadata": {
        "colab": {
          "base_uri": "https://localhost:8080/",
          "height": 559
        },
        "id": "5mrgwsOaPoTg",
        "outputId": "a7b6f88f-c256-40f7-eb6c-149c7c761f5b"
      },
      "execution_count": 1,
      "outputs": [
        {
          "output_type": "stream",
          "name": "stderr",
          "text": [
            "<ipython-input-1-74b75f2d6916>:14: RuntimeWarning: overflow encountered in square\n",
            "  loss = (1/(2*m)) * np.sum(errors**2)\n",
            "<ipython-input-1-74b75f2d6916>:13: RuntimeWarning: invalid value encountered in subtract\n",
            "  theta -= learning_rate * gradients\n"
          ]
        },
        {
          "output_type": "display_data",
          "data": {
            "text/plain": [
              "<Figure size 640x480 with 1 Axes>"
            ],
            "image/png": "[encoded data removed]"
          },
          "metadata": {}
        },
        {
          "output_type": "stream",
          "name": "stdout",
          "text": [
            "Coefficients: [nan nan nan nan]\n"
          ]
        }
      ]
    },
    {
      "cell_type": "markdown",
      "source": [
        "2. Changing the Learning Rate:\n",
        "\n",
        "Increase or decrease the learning rate to observe how the convergence changes. Use the code above and modify the learning_rate value (e.g., 0.001 or 0.1) to observe convergence behavior.\n",
        "\n",
        "If the learning rate is too high, gradient descent may overshoot the minimum, and if it's too low, it may take a lot of time to converge or not converge at all.\n",
        "\n",
        "3. Degree 5 Polynomial with 5 Roots:\n",
        "\n",
        "You can try initializing with different values and observe if gradient descent converges to the same minimum. Here's an example with a degree 5 polynomial:"
      ],
      "metadata": {
        "id": "bZX_-zgTP4Q3"
      }
    },
    {
      "cell_type": "code",
      "source": [
        "# Polynomial degree 5 example\n",
        "y = X**5 - 4*X**4 + 3*X**3 - X**2 + X\n",
        "X_b = np.c_[np.ones((len(X), 1)), X, X**2, X**3, X**4, X**5]\n",
        "\n",
        "# Try different initializations of theta\n",
        "theta_init1 = np.random.randn(6)  # Initialization 1\n",
        "theta_init2 = np.random.randn(6)  # Initialization 2\n",
        "\n",
        "theta1, _ = gradient_descent(X_b, y, theta_init1, learning_rate, iterations)\n",
        "theta2, _ = gradient_descent(X_b, y, theta_init2, learning_rate, iterations)\n",
        "\n",
        "print(f\"Final coefficients for initialization 1: {theta1}\")\n",
        "print(f\"Final coefficients for initialization 2: {theta2}\")\n"
      ],
      "metadata": {
        "id": "NBgVPdueP8FJ"
      },
      "execution_count": null,
      "outputs": []
    },
    {
      "cell_type": "markdown",
      "source": [
        "In cases like simple polynomials, initialization doesn't significantly matter because gradient descent often converges to the same global minimum. However, in more complex landscapes with multiple minima, different initializations can lead to different solutions.\n",
        "\n",
        "4. Finding a Maximum Instead of Minimum:\n",
        "\n",
        "To modify the algorithm to find the maximum, you can flip the direction of the gradient ascent by using the positive gradient instead of the negative gradient:"
      ],
      "metadata": {
        "id": "yliE9hBHQBFa"
      }
    },
    {
      "cell_type": "code",
      "source": [
        "def gradient_ascent(X, y, theta, learning_rate, iterations):\n",
        "    m = len(y)\n",
        "    for _ in range(iterations):\n",
        "        predictions = X.dot(theta)\n",
        "        errors = predictions - y\n",
        "        gradients = (1/m) * X.T.dot(errors)\n",
        "        theta += learning_rate * gradients  # Add instead of subtract\n",
        "    return theta\n"
      ],
      "metadata": {
        "id": "vyM2EVgnQEHB"
      },
      "execution_count": null,
      "outputs": []
    },
    {
      "cell_type": "markdown",
      "source": [
        "5. Is Shuffling Necessary in Full-Batch Gradient Descent?\n",
        "\n",
        "In full-batch gradient descent, where the entire dataset is used in each step, shuffling is not strictly necessary because all data points are used simultaneously. The ordering of the dataset does not impact the gradient calculation.\n",
        "\n",
        "However, in mini-batch or stochastic gradient descent (SGD), shuffling is essential because it prevents the model from learning patterns based on the order of data. Without shuffling, the model may converge too quickly to a suboptimal solution based on biased updates.\n",
        "\n",
        "6. Shuffling in Mini-Batch Gradient Descent for a Dog/Cat Classifier:\n",
        "\n",
        "My friend is correct. When using mini-batch gradient descent, shuffling ensures that each mini-batch is a representative sample of the entire dataset. If all dog images are processed first, followed by cat images, the model may learn biased updates in the early epochs, which could slow convergence and lead to poorer generalization. Shuffling ensures each batch contains a mix of dogs and cats, improving learning stability."
      ],
      "metadata": {
        "id": "k8CpdfhFQG-5"
      }
    }
  ]
}