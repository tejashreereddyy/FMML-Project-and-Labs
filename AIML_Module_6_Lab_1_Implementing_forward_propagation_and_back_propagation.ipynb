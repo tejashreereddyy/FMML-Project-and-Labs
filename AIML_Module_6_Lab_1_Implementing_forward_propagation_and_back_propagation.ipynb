{
  "nbformat": 4,
  "nbformat_minor": 0,
  "metadata": {
    "colab": {
      "provenance": [],
      "authorship_tag": "ABX9TyNmd172fnxeeGuFAUiQMRom",
      "include_colab_link": true
    },
    "kernelspec": {
      "name": "python3",
      "display_name": "Python 3"
    },
    "language_info": {
      "name": "python"
    }
  },
  "cells": [
    {
      "cell_type": "markdown",
      "metadata": {
        "id": "view-in-github",
        "colab_type": "text"
      },
      "source": [
        "<a href=\"https://colab.research.google.com/github/tejashreereddyy/FMML-Project-and-Labs/blob/main/AIML_Module_6_Lab_1_Implementing_forward_propagation_and_back_propagation.ipynb\" target=\"_parent\"><img src=\"https://colab.research.google.com/assets/colab-badge.svg\" alt=\"Open In Colab\"/></a>"
      ]
    },
    {
      "cell_type": "markdown",
      "source": [
        "# New Section\n",
        "## Implementing forward propagation and back propagation\n",
        "\n",
        "In this lab, we implement forward and backpropagation to train an MLP for a simple binary classification problem using gradient descent."
      ],
      "metadata": {
        "id": "JYivotdCJ8Ug"
      }
    },
    {
      "cell_type": "markdown",
      "source": [
        " What we need for gradient descent\n",
        "- Consider a simple MLP\n",
        "    - Let us ignore non-linearities for now to keep it simpler, but it's just a tiny change subsequently\n",
        "    - Given a linear transformation on our input (for simplicity instead of an affine transformation that includes a bias): $\\hat y = \\theta x$\n",
        "        - $\\theta$ is our parameters\n",
        "        - $x$ is our input\n",
        "        - $\\hat y$ is our prediction\n",
        "    - Then we have our MSE loss function $L = \\frac{1}{2} (\\hat y - y)^2$\n",
        "- We need to calculate our partial derivatives of our loss w.r.t. our parameters to update our parameters: $\\nabla_{\\theta} = \\frac{\\delta L}{\\delta \\theta}$\n",
        "    - With chain rule we have $\\frac{\\delta L}{\\delta \\theta} = \\frac{\\delta L}{\\delta \\hat y} \\frac{\\delta \\hat y}{\\delta \\theta}$\n",
        "        - $\\frac{\\delta L}{\\delta \\hat y} = (\\hat y -  y)$\n",
        "        - $\\frac{\\delta \\hat y}{\\delta \\theta}$ is our partial derivatives of $y$ w.r.t. our parameters (our gradient)"
      ],
      "metadata": {
        "id": "5bqP-P1FKGzi"
      }
    },
    {
      "cell_type": "code",
      "source": [
        "import torch\n",
        "import torch.nn as nn"
      ],
      "metadata": {
        "id": "HJCRzwYFK45m"
      },
      "execution_count": 1,
      "outputs": []
    },
    {
      "cell_type": "code",
      "source": [
        "from sklearn import datasets\n",
        "from sklearn import preprocessing\n",
        "iris = datasets.load_iris()\n",
        "X = torch.tensor(preprocessing.normalize(iris.data[:, :2]), dtype=torch.float)\n",
        "y = torch.tensor(iris.target.reshape(-1, 1), dtype=torch.float)\n",
        "# Set manual seed\n",
        "torch.manual_seed(2)\n",
        "print(X.size())\n",
        "print(y.size())"
      ],
      "metadata": {
        "colab": {
          "base_uri": "https://localhost:8080/"
        },
        "id": "1HEyb308K-aN",
        "outputId": "b3af2bc9-392e-48d4-d70c-3ff7dd475bf6"
      },
      "execution_count": 6,
      "outputs": [
        {
          "output_type": "stream",
          "name": "stdout",
          "text": [
            "torch.Size([150, 2])\n",
            "torch.Size([150, 1])\n"
          ]
        }
      ]
    },
    {
      "cell_type": "code",
      "source": [
        "# Take 2 classes in order to get binary classification problem\n",
        "X = X[:y[y < 2].size()[0]]\n",
        "y = y[:y[y < 2].size()[0]]\n",
        "print(X.size())\n",
        "print(y.size())"
      ],
      "metadata": {
        "colab": {
          "base_uri": "https://localhost:8080/"
        },
        "id": "Epncrdt8LoZn",
        "outputId": "a2e42d0d-6b43-4814-a603-34fc42df9f49"
      },
      "execution_count": 7,
      "outputs": [
        {
          "output_type": "stream",
          "name": "stdout",
          "text": [
            "torch.Size([100, 2])\n",
            "torch.Size([100, 1])\n"
          ]
        }
      ]
    },
    {
      "cell_type": "code",
      "source": [
        "print(torch.randn(2, 32).size())"
      ],
      "metadata": {
        "colab": {
          "base_uri": "https://localhost:8080/"
        },
        "id": "91dyHw_mLv28",
        "outputId": "4aa5078c-722d-4060-e023-f333a2823cdf"
      },
      "execution_count": 8,
      "outputs": [
        {
          "output_type": "stream",
          "name": "stdout",
          "text": [
            "torch.Size([2, 32])\n"
          ]
        }
      ]
    },
    {
      "cell_type": "code",
      "source": [
        "class FNN(nn.Module):\n",
        "    def __init__(self, ):\n",
        "        super().__init__()\n",
        "\n",
        "        # Dimensions for input, hidden and output\n",
        "        self.input_dim = 2\n",
        "        self.hidden_dim = 32\n",
        "        self.output_dim = 1\n",
        "\n",
        "        # Learning rate\n",
        "        self.learning_rate = 0.001\n",
        "\n",
        "        # Our parameters (weights)\n",
        "        # w1: 2 x 32\n",
        "        self.w1 = torch.randn(self.input_dim, self.hidden_dim)\n",
        "\n",
        "        # w2: 32 x 1\n",
        "        self.w2 = torch.randn(self.hidden_dim, self.output_dim)\n",
        "\n",
        "    def sigmoid(self, s):\n",
        "        return 1 / (1 + torch.exp(-s))\n",
        "\n",
        "    def sigmoid_first_order_derivative(self, s):\n",
        "        return s * (1 - s)\n",
        "\n",
        "    # Forward propagation\n",
        "    def forward(self, X):\n",
        "        # First linear layer\n",
        "        self.y1 = torch.matmul(X, self.w1) # 3 X 3 \".dot\" does not broadcast in PyTorch\n",
        "\n",
        "        # First non-linearity\n",
        "        self.y2 = self.sigmoid(self.y1)\n",
        "\n",
        "        # Second linear layer\n",
        "        self.y3 = torch.matmul(self.y2, self.w2)\n",
        "\n",
        "        # Second non-linearity\n",
        "        y4 = self.sigmoid(self.y3)\n",
        "        return y4\n",
        "\n",
        "    # Backward propagation\n",
        "    def backward(self, X, l, y4):\n",
        "        # Derivative of binary cross entropy cost w.r.t. final output y4\n",
        "        self.dC_dy4 = y4 - l\n",
        "\n",
        "        '''\n",
        "        Gradients for w2: partial derivative of cost w.r.t. w2\n",
        "        dC/dw2\n",
        "        '''\n",
        "        self.dy4_dy3 = self.sigmoid_first_order_derivative(y4)\n",
        "        self.dy3_dw2 = self.y2\n",
        "\n",
        "        # Y4 delta: dC_dy4 dy4_dy3\n",
        "        self.y4_delta = self.dC_dy4 * self.dy4_dy3\n",
        "\n",
        "        # This is our gradients for w1: dC_dy4 dy4_dy3 dy3_dw2\n",
        "        self.dC_dw2 = torch.matmul(torch.t(self.dy3_dw2), self.y4_delta)\n",
        "\n",
        "        '''\n",
        "        Gradients for w1: partial derivative of cost w.r.t w1\n",
        "        dC/dw1\n",
        "        '''\n",
        "        self.dy3_dy2 = self.w2\n",
        "        self.dy2_dy1 = self.sigmoid_first_order_derivative(self.y2)\n",
        "\n",
        "        # Y2 delta: (dC_dy4 dy4_dy3) dy3_dy2 dy2_dy1\n",
        "        self.y2_delta = torch.matmul(self.y4_delta, torch.t(self.dy3_dy2)) * self.dy2_dy1\n",
        "\n",
        "        # Gradients for w1: (dC_dy4 dy4_dy3) dy3_dy2 dy2_dy1 dy1_dw1\n",
        "        self.dC_dw1 = torch.matmul(torch.t(X), self.y2_delta)\n",
        "\n",
        "        # Gradient descent on the weights from our 2 linear layers\n",
        "        self.w1 -= self.learning_rate * self.dC_dw1\n",
        "        self.w2 -= self.learning_rate * self.dC_dw2\n",
        "\n",
        "    def train(self, X, l):\n",
        "        # Forward propagation\n",
        "        y4 = self.forward(X)\n",
        "\n",
        "        # Backward propagation and gradient descent\n",
        "        self.backward(X, l, y4)"
      ],
      "metadata": {
        "id": "GRYvNnuUL0dz"
      },
      "execution_count": 9,
      "outputs": []
    },
    {
      "cell_type": "code",
      "source": [
        "# Instantiate our model class and assign it to our model object\n",
        "model = FNN()\n",
        "\n",
        "# Loss list for plotting of loss behaviour\n",
        "loss_lst = []\n",
        "\n",
        "# Number of epochs\n",
        "num_epochs = 101\n",
        "\n",
        "# Let's train our model with 100 epochs\n",
        "for epoch in range(num_epochs):\n",
        "    # Get our predictions\n",
        "    y_hat = model(X)\n",
        "\n",
        "    # Cross entropy loss\n",
        "    cross_entropy_loss = -(y * torch.log(y_hat) + (1 - y) * torch.log(1 - y_hat))\n",
        "\n",
        "    # We have to take cross entropy loss over all our samples, 100 in this 2-class iris dataset, thus we find the mean\n",
        "    mean_cross_entropy_loss = torch.mean(cross_entropy_loss).detach().item()\n",
        "\n",
        "    # Print our mean cross entropy loss every 20 epochs\n",
        "    if epoch % 20 == 0:\n",
        "        print('Epoch {} | Loss: {}'.format(epoch, mean_cross_entropy_loss))\n",
        "    loss_lst.append(mean_cross_entropy_loss)\n",
        "\n",
        "    ## Main steps followed\n",
        "    # (1) Forward propagation: to get our predictions to pass to our cross entropy loss function\n",
        "    # (2) Back propagation: get our partial derivatives w.r.t. parameters (gradients)\n",
        "    # (3) Gradient Descent: update our weights with our gradients\n",
        "    model.train(X, y)"
      ],
      "metadata": {
        "colab": {
          "base_uri": "https://localhost:8080/"
        },
        "id": "C0q3CRFcL549",
        "outputId": "959665e5-2254-4a9e-a989-d673282f3837"
      },
      "execution_count": 10,
      "outputs": [
        {
          "output_type": "stream",
          "name": "stdout",
          "text": [
            "Epoch 0 | Loss: 0.9228230118751526\n",
            "Epoch 20 | Loss: 0.6966761946678162\n",
            "Epoch 40 | Loss: 0.6714916229248047\n",
            "Epoch 60 | Loss: 0.6686137914657593\n",
            "Epoch 80 | Loss: 0.666690468788147\n",
            "Epoch 100 | Loss: 0.6648103594779968\n"
          ]
        }
      ]
    },
    {
      "cell_type": "code",
      "source": [
        "# Plotting loss\n",
        "import pandas as pd\n",
        "%matplotlib inline\n",
        "pd.Series(loss_lst).plot()"
      ],
      "metadata": {
        "colab": {
          "base_uri": "https://localhost:8080/",
          "height": 447
        },
        "id": "jMMt_CHxL9n5",
        "outputId": "3e18b741-f7b5-4055-94ec-403502c2f94f"
      },
      "execution_count": 11,
      "outputs": [
        {
          "output_type": "execute_result",
          "data": {
            "text/plain": [
              "<Axes: >"
            ]
          },
          "metadata": {},
          "execution_count": 11
        },
        {
          "output_type": "display_data",
          "data": {
            "text/plain": [
              "<Figure size 640x480 with 1 Axes>"
            ],
            "image/png": "[encoded data removed]"
          },
          "metadata": {}
        }
      ]
    }
  ]
}