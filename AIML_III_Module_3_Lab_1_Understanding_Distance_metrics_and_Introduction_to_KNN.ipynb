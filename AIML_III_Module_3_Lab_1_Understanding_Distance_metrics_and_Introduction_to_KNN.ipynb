{
  "nbformat": 4,
  "nbformat_minor": 0,
  "metadata": {
    "colab": {
      "provenance": [],
      "authorship_tag": "ABX9TyPKG1EHbT5e1Aerv1k+vdfh",
      "include_colab_link": true
    },
    "kernelspec": {
      "name": "python3",
      "display_name": "Python 3"
    },
    "language_info": {
      "name": "python"
    }
  },
  "cells": [
    {
      "cell_type": "markdown",
      "metadata": {
        "id": "view-in-github",
        "colab_type": "text"
      },
      "source": [
        "<a href=\"https://colab.research.google.com/github/tejashreereddyy/FMML-Project-and-Labs/blob/main/AIML_III_Module_3_Lab_1_Understanding_Distance_metrics_and_Introduction_to_KNN.ipynb\" target=\"_parent\"><img src=\"https://colab.research.google.com/assets/colab-badge.svg\" alt=\"Open In Colab\"/></a>"
      ]
    },
    {
      "cell_type": "markdown",
      "source": [
        "tudents Internship Batch of 2024\n",
        "\n",
        "MODULE 3: CLASSIFICATION-1\n",
        "\n",
        "LAB-1 : Understanding Distance metrics and Introduction to KNN\n",
        "\n",
        "TASK-1\n",
        "Write a vectorized version of computing Euclidean distance (using numpy) in the space given below\n",
        "(Expected number of lines ~ 1). Your answer should be stored in the variable 'euclidean_dist'\n",
        "Verify this result with what you saw above\n",
        "Write your code below and uncomment the lines below in order to run the cell.\n",
        "\n",
        "euclidean_dist =print(euclidean_dist)\n",
        "\n"
      ],
      "metadata": {
        "id": "KLujBnwHmPW2"
      }
    },
    {
      "cell_type": "code",
      "source": [
        "import numpy as np\n",
        "\n",
        "# Assuming you have two vectors a and b\n",
        "a = np.array([1, 2, 3])\n",
        "b = np.array([4, 5, 6])\n",
        "\n",
        "# Calculate Euclidean distance\n",
        "euclidean_dist = np.sqrt(np.sum((a - b) ** 2))\n",
        "print(euclidean_dist)\n"
      ],
      "metadata": {
        "id": "BlnXYTTjnovT"
      },
      "execution_count": null,
      "outputs": []
    },
    {
      "cell_type": "markdown",
      "source": [
        "## TASK-2\n",
        "Write a vectorized version of computing Manhattan distance (using numpy) in the space given below\n",
        "(Expected number of lines ~ 1). Your answer should be stored in the variable 'manhattan_dist'\n",
        "Verify your result with the output of the scipy function in the previous cell.\n",
        "\n",
        "Write your code below and uncomment the lines below in order to run the cell.\n",
        "\n",
        "manhattan_dist =print(manhattan_dist)"
      ],
      "metadata": {
        "id": "NzkKXjk3nxdO"
      }
    },
    {
      "cell_type": "code",
      "source": [
        "import numpy as np\n",
        "\n",
        "# Assuming you have two vectors a and b\n",
        "a = np.array([1, 2, 3])\n",
        "b = np.array([4, 5, 6])\n",
        "\n",
        "# Calculate Manhattan distance\n",
        "manhattan_dist = np.sum(np.abs(a - b))\n",
        "print(manhattan_dist)\n"
      ],
      "metadata": {
        "id": "TQdq5kfDn-RJ"
      },
      "execution_count": null,
      "outputs": []
    },
    {
      "cell_type": "markdown",
      "source": [
        "## TASK - 3\n",
        "The code given below is that of a KNN classifier, provided by Scikit-learn.\n",
        "The parameter 'metric' includes various distance metric options, including those\n",
        "we learnt above- manhattan, euclidean, minkowski,chebyshev, hamming, etc.\n",
        "Try out different metrics and observe changes in the accuracy, if any. Don't change value of 'k'\n",
        "Also, experiment with different metrics and observe if they are applicable for this kind of data.\n",
        "If there are any additional parameters needed, for instance, 'p' in case of Minkowski distance, include them.\n",
        "\n",
        "knn = KNeighborsClassifier(n_neighbors = 3)\n",
        "knn.fit(pts, tgts)\n",
        "our_predictions = knn.predict(test_pts)\n",
        "print(\"Prediction Accuracy: \")\n",
        "print(100 * np.mean(our_predictions == test_tgts))"
      ],
      "metadata": {
        "id": "wiVpdxXSoRdB"
      }
    },
    {
      "cell_type": "code",
      "source": [
        "from sklearn.neighbors import KNeighborsClassifier\n",
        "from sklearn.model_selection import train_test_split\n",
        "from sklearn.datasets import load_iris\n",
        "import numpy as np\n",
        "\n",
        "# Load a sample dataset (e.g., Iris dataset)\n",
        "data = load_iris()\n",
        "pts = data.data  # Feature data (input)\n",
        "tgts = data.target  # Target labels (output)\n",
        "\n",
        "# Split the data into training and testing sets\n",
        "pts, test_pts, tgts, test_tgts = train_test_split(pts, tgts, test_size=0.3, random_state=42)\n",
        "\n",
        "# Example with Euclidean distance\n",
        "knn = KNeighborsClassifier(n_neighbors=3, metric='euclidean')\n",
        "knn.fit(pts, tgts)\n",
        "our_predictions = knn.predict(test_pts)\n",
        "print(\"Prediction Accuracy with Euclidean: \")\n",
        "print(100 * np.mean(our_predictions == test_tgts))\n",
        "\n",
        "# Example with Manhattan distance\n",
        "knn = KNeighborsClassifier(n_neighbors=3, metric='manhattan')\n",
        "knn.fit(pts, tgts)\n",
        "our_predictions = knn.predict(test_pts)\n",
        "print(\"Prediction Accuracy with Manhattan: \")\n",
        "print(100 * np.mean(our_predictions == test_tgts))\n",
        "\n",
        "# Example with Minkowski distance, p=3\n",
        "knn = KNeighborsClassifier(n_neighbors=3, metric='minkowski', p=3)\n",
        "knn.fit(pts, tgts)\n",
        "our_predictions = knn.predict(test_pts)\n",
        "print(\"Prediction Accuracy with Minkowski (p=3): \")\n",
        "print(100 * np.mean(our_predictions == test_tgts))\n",
        "\n",
        "# Example with Chebyshev distance\n",
        "knn = KNeighborsClassifier(n_neighbors=3, metric='chebyshev')\n",
        "knn.fit(pts, tgts)\n",
        "our_predictions = knn.predict(test_pts)\n",
        "print(\"Prediction Accuracy with Chebyshev: \")\n",
        "print(100 * np.mean(our_predictions == test_tgts))\n",
        "\n"
      ],
      "metadata": {
        "colab": {
          "base_uri": "https://localhost:8080/"
        },
        "id": "uAI9UAGnojBM",
        "outputId": "1e49d958-23c6-4a94-fc7f-7d430024f773"
      },
      "execution_count": null,
      "outputs": [
        {
          "output_type": "stream",
          "name": "stdout",
          "text": [
            "Prediction Accuracy with Euclidean: \n",
            "100.0\n",
            "Prediction Accuracy with Manhattan: \n",
            "100.0\n",
            "Prediction Accuracy with Minkowski (p=3): \n",
            "100.0\n",
            "Prediction Accuracy with Chebyshev: \n",
            "100.0\n"
          ]
        }
      ]
    }
  ]
}