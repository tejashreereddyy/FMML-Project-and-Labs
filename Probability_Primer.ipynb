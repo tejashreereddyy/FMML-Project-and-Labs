{
  "nbformat": 4,
  "nbformat_minor": 0,
  "metadata": {
    "colab": {
      "provenance": [],
      "authorship_tag": "ABX9TyNiEUwocTJ9VtdJedMSsjnZ",
      "include_colab_link": true
    },
    "kernelspec": {
      "name": "python3",
      "display_name": "Python 3"
    },
    "language_info": {
      "name": "python"
    }
  },
  "cells": [
    {
      "cell_type": "markdown",
      "metadata": {
        "id": "view-in-github",
        "colab_type": "text"
      },
      "source": [
        "<a href=\"https://colab.research.google.com/github/tejashreereddyy/FMML-Project-and-Labs/blob/main/Probability_Primer.ipynb\" target=\"_parent\"><img src=\"https://colab.research.google.com/assets/colab-badge.svg\" alt=\"Open In Colab\"/></a>"
      ]
    },
    {
      "cell_type": "markdown",
      "source": [
        "Statistics and Probability: Fundamentals\n",
        "\n",
        "What is Probability?\n",
        "\n",
        "Probability is a measure of the likelihood that an event will occur. It quantifies uncertainty and is expressed as a number between 0 and 1, where:\n",
        "\n",
        "0 indicates impossibility.\n",
        "\n",
        "1 indicates certainty.\n",
        "\n",
        "The probability of an event\n",
        "𝐴\n",
        "A is denoted as\n",
        "𝑃\n",
        "(\n",
        "𝐴\n",
        ")\n",
        "P(A) and is defined by the formula:\n",
        "\n",
        "𝑃\n",
        "(\n",
        "𝐴\n",
        ")\n",
        "=\n",
        "Number of favorable outcomes\n",
        "Total number of possible outcomes\n",
        "P(A)=\n",
        "Total number of possible outcomes\n",
        "Number of favorable outcomes\n",
        "​\n",
        "\n",
        "\n",
        "Basic Probability Formulae\n",
        "\n",
        "\n",
        "Probability of an Event:\n",
        "𝑃\n",
        "(\n",
        "𝐴\n",
        ")\n",
        "=\n",
        "Number of favorable outcomes\n",
        "Total number of possible outcomes\n",
        "P(A)=\n",
        "Total number of possible outcomes\n",
        "Number of favorable outcomes\n",
        "​\n",
        "\n",
        "\n",
        "Probability of the Complement of an Event:\n",
        "\n",
        "𝑃\n",
        "(\n",
        "𝐴\n",
        "𝑐\n",
        ")\n",
        "=\n",
        "1\n",
        "−\n",
        "𝑃\n",
        "(\n",
        "𝐴\n",
        ")\n",
        "P(A\n",
        "c\n",
        " )=1−P(A)\n",
        "where\n",
        "𝐴\n",
        "𝑐\n",
        "A\n",
        "c\n",
        "  is the complement of event\n",
        "𝐴\n",
        "A (i.e., the event that\n",
        "𝐴\n",
        "A does not occur).\n",
        "\n",
        "Addition Rule for Mutually Exclusive Events:\n",
        "\n",
        "\n",
        "𝑃\n",
        "(\n",
        "𝐴\n",
        "∪\n",
        "𝐵\n",
        ")\n",
        "=\n",
        "𝑃\n",
        "(\n",
        "𝐴\n",
        ")\n",
        "+\n",
        "𝑃\n",
        "(\n",
        "𝐵\n",
        ")\n",
        "P(A∪B)=P(A)+P(B)\n",
        "where\n",
        "𝐴\n",
        "A and\n",
        "𝐵\n",
        "B are mutually exclusive events (i.e., they cannot happen at the same time).\n",
        "\n",
        "Multiplication Rule for Independent Events:\n",
        "\n",
        "\n",
        "𝑃\n",
        "(\n",
        "𝐴\n",
        "∩\n",
        "𝐵\n",
        ")\n",
        "=\n",
        "𝑃\n",
        "(\n",
        "𝐴\n",
        ")\n",
        "×\n",
        "𝑃\n",
        "(\n",
        "𝐵\n",
        ")\n",
        "P(A∩B)=P(A)×P(B)\n",
        "where\n",
        "𝐴\n",
        "A and\n",
        "𝐵\n",
        "B are independent events (i.e., the occurrence of one does not affect the occurrence of the other)."
      ],
      "metadata": {
        "id": "n2I1fuzomsud"
      }
    },
    {
      "cell_type": "markdown",
      "source": [
        "\n",
        "Example 1:\n",
        "\n",
        "Probability of Rolling a Die\n",
        "\n",
        "Let's calculate the probability of rolling a 3 on a fair six-sided die."
      ],
      "metadata": {
        "id": "nDW8vqCEoA3s"
      }
    },
    {
      "cell_type": "code",
      "source": [
        "# Total possible outcomes when rolling a die\n",
        "total_outcomes = 6\n",
        "\n",
        "# Favorable outcomes (rolling a 3)\n",
        "favorable_outcomes = 1\n",
        "\n",
        "# Probability of rolling a 3\n",
        "probability_of_3 = favorable_outcomes / total_outcomes\n",
        "print(f\"Probability of rolling a 3: {probability_of_3}\")\n"
      ],
      "metadata": {
        "colab": {
          "base_uri": "https://localhost:8080/"
        },
        "id": "fi78e4lWoHdP",
        "outputId": "6410668b-68d5-4446-fcec-1aa2ae2ef63c"
      },
      "execution_count": null,
      "outputs": [
        {
          "output_type": "stream",
          "name": "stdout",
          "text": [
            "Probability of rolling a 3: 0.16666666666666666\n"
          ]
        }
      ]
    },
    {
      "cell_type": "markdown",
      "source": [
        "Example 2:\n",
        "\n",
        "Probability of Drawing an Ace from a Deck of Cards\n",
        "\n",
        "Let's calculate the probability of drawing an Ace from a standard deck of 52 cards."
      ],
      "metadata": {
        "id": "wiatRap0oXsc"
      }
    },
    {
      "cell_type": "code",
      "source": [
        "# Total possible outcomes in a deck of cards\n",
        "total_outcomes = 52\n",
        "\n",
        "# Favorable outcomes (drawing an Ace)\n",
        "favorable_outcomes = 4  # There are 4 Aces in a deck\n",
        "\n",
        "# Probability of drawing an Ace\n",
        "probability_of_ace = favorable_outcomes / total_outcomes\n",
        "print(f\"Probability of drawing an Ace: {probability_of_ace}\")\n"
      ],
      "metadata": {
        "id": "UrnYWz4robg-"
      },
      "execution_count": null,
      "outputs": []
    },
    {
      "cell_type": "markdown",
      "source": [
        "Example 3:\n",
        "\n",
        "Simulating Probability with Numpy\n",
        "\n",
        "\n",
        "Let's simulate the probability of getting heads when flipping a fair coin 1000 times using numpy."
      ],
      "metadata": {
        "id": "tq1rqwp1oe0u"
      }
    },
    {
      "cell_type": "code",
      "source": [
        "import numpy as np\n",
        "\n",
        "# Simulate 1000 coin flips (0 = tails, 1 = heads)\n",
        "coin_flips = np.random.choice([0, 1], size=1000)\n",
        "\n",
        "# Calculate the probability of getting heads\n",
        "probability_of_heads = np.mean(coin_flips)\n",
        "print(f\"Probability of getting heads: {probability_of_heads}\")\n"
      ],
      "metadata": {
        "id": "kBaNSDKAouiv"
      },
      "execution_count": null,
      "outputs": []
    },
    {
      "cell_type": "markdown",
      "source": [
        "Generating Random Data with Numpy"
      ],
      "metadata": {
        "id": "IfCxvow_o-vC"
      }
    },
    {
      "cell_type": "code",
      "source": [
        "import numpy as np\n",
        "\n",
        "# Generate a random sample of 1000 numbers from a normal distribution\n",
        "data = np.random.normal(loc=0, scale=1, size=1000)\n",
        "print(data[:10])  # Print first 10 values\n"
      ],
      "metadata": {
        "id": "gC_LXPTVpFUI"
      },
      "execution_count": null,
      "outputs": []
    },
    {
      "cell_type": "markdown",
      "source": [
        " Creating a DataFrame with Pandas"
      ],
      "metadata": {
        "id": "vbXMSH-ipOYU"
      }
    },
    {
      "cell_type": "code",
      "source": [
        "import pandas as pd\n",
        "\n",
        "# Create a DataFrame from the generated data\n",
        "df = pd.DataFrame(data, columns=['RandomData'])\n",
        "print(df.head())\n"
      ],
      "metadata": {
        "id": "AiVQhIWYpShe"
      },
      "execution_count": null,
      "outputs": []
    },
    {
      "cell_type": "markdown",
      "source": [
        "Plotting a Histogram with Matplotlib"
      ],
      "metadata": {
        "id": "mK2AD4TPpa4m"
      }
    },
    {
      "cell_type": "code",
      "source": [
        "import matplotlib.pyplot as plt\n",
        "\n",
        "# Plot a histogram\n",
        "plt.hist(df['RandomData'], bins=30, edgecolor='k', alpha=0.7)\n",
        "plt.title('Histogram of Random Data')\n",
        "plt.xlabel('Value')\n",
        "plt.ylabel('Frequency')\n",
        "plt.show()\n"
      ],
      "metadata": {
        "id": "cQn9_EdTpb6f"
      },
      "execution_count": null,
      "outputs": []
    },
    {
      "cell_type": "markdown",
      "source": [
        "Plotting with Seaborn"
      ],
      "metadata": {
        "id": "AKHpNAuVpeoN"
      }
    },
    {
      "cell_type": "code",
      "source": [
        "import seaborn as sns\n",
        "\n",
        "# Plot a KDE (Kernel Density Estimate) plot\n",
        "sns.kdeplot(df['RandomData'], shade=True)\n",
        "plt.title('KDE Plot of Random Data')\n",
        "plt.xlabel('Value')\n",
        "plt.ylabel('Density')\n",
        "plt.show()\n"
      ],
      "metadata": {
        "id": "axDuyHaKpqX9"
      },
      "execution_count": null,
      "outputs": []
    },
    {
      "cell_type": "markdown",
      "source": [
        "Interactive Plot with Plotly Graph Objects"
      ],
      "metadata": {
        "id": "Geiuk9GpptxP"
      }
    },
    {
      "cell_type": "code",
      "source": [
        "import plotly.graph_objects as go\n",
        "\n",
        "# Create a histogram using Plotly Graph Objects\n",
        "fig = go.Figure(data=[go.Histogram(x=df['RandomData'], nbinsx=30)])\n",
        "fig.update_layout(title='Histogram of Random Data',\n",
        "                  xaxis_title='Value',\n",
        "                  yaxis_title='Frequency')\n",
        "fig.show()\n"
      ],
      "metadata": {
        "id": "xJKz3BPWpw4c"
      },
      "execution_count": null,
      "outputs": []
    },
    {
      "cell_type": "markdown",
      "source": [
        " Interactive Plot with Plotly Express"
      ],
      "metadata": {
        "id": "Kd8igdpGpzem"
      }
    },
    {
      "cell_type": "code",
      "source": [
        "import plotly.express as px\n",
        "\n",
        "# Create a histogram using Plotly Express\n",
        "fig = px.histogram(df, x='RandomData', nbins=30, title='Histogram of Random Data')\n",
        "fig.show()\n"
      ],
      "metadata": {
        "id": "xerbHVgnp2pG"
      },
      "execution_count": null,
      "outputs": []
    },
    {
      "cell_type": "markdown",
      "source": [
        "Basic Descriptive Statistics"
      ],
      "metadata": {
        "id": "7v050127p5Hw"
      }
    },
    {
      "cell_type": "code",
      "source": [
        "# Descriptive statistics\n",
        "mean = np.mean(data)\n",
        "median = np.median(data)\n",
        "std_dev = np.std(data)\n",
        "variance = np.var(data)\n",
        "\n",
        "print(f\"Mean: {mean}\")\n",
        "print(f\"Median: {median}\")\n",
        "print(f\"Standard Deviation: {std_dev}\")\n",
        "print(f\"Variance: {variance}\")\n"
      ],
      "metadata": {
        "id": "VILYk4YUp9JN"
      },
      "execution_count": null,
      "outputs": []
    },
    {
      "cell_type": "markdown",
      "source": [
        "Correlation Matrix"
      ],
      "metadata": {
        "id": "B63X0p6XqCIq"
      }
    },
    {
      "cell_type": "code",
      "source": [
        "# Generate additional data for correlation example\n",
        "data2 = np.random.normal(loc=5, scale=2, size=1000)\n",
        "df['RandomData2'] = data2\n",
        "\n",
        "# Compute correlation matrix\n",
        "correlation_matrix = df.corr()\n",
        "print(correlation_matrix)\n",
        "\n",
        "# Plot correlation matrix using Seaborn\n",
        "sns.heatmap(correlation_matrix, annot=True, cmap='coolwarm')\n",
        "plt.title('Correlation Matrix')\n",
        "plt.show()\n"
      ],
      "metadata": {
        "id": "P47qu5paqDCU"
      },
      "execution_count": null,
      "outputs": []
    },
    {
      "cell_type": "markdown",
      "source": [
        "Scatter Plot with Seaborn"
      ],
      "metadata": {
        "id": "WaL0PuaHqGGt"
      }
    },
    {
      "cell_type": "code",
      "source": [
        "# Scatter plot\n",
        "sns.scatterplot(x='RandomData', y='RandomData2', data=df)\n",
        "plt.title('Scatter Plot of RandomData vs RandomData2')\n",
        "plt.xlabel('RandomData')\n",
        "plt.ylabel('RandomData2')\n",
        "plt.show()\n"
      ],
      "metadata": {
        "id": "fQMpNJA4qJxb"
      },
      "execution_count": null,
      "outputs": []
    },
    {
      "cell_type": "markdown",
      "source": [
        "These examples cover a range of basic operations and visualizations in probability and statistics using the specified libraries."
      ],
      "metadata": {
        "id": "9ejNbPqKqRbc"
      }
    },
    {
      "cell_type": "code",
      "source": [
        "import numpy as np\n",
        "import pandas as pd\n",
        "import plotly.graph_objects as pg\n",
        "\n",
        "# Function to simulate coin tosses\n",
        "def toss_coin(n=1000):\n",
        "    # Simulate n coin tosses (0 = tails, 1 = heads)\n",
        "    coin_flips = np.random.choice(['Heads', 'Tails'], size=n)\n",
        "    return pd.Series(coin_flips)\n",
        "\n",
        "# Generate results from coin tosses\n",
        "results = toss_coin()\n",
        "\n",
        "# Print the count of heads and tails\n",
        "print(results.value_counts())\n",
        "\n",
        "# Plot the results using Plotly\n",
        "fig = pg.Figure([pg.Bar(x=results.value_counts().keys(),\n",
        "                        y=results.value_counts().values)])\n",
        "fig.update_layout(title='Results of Coin Tosses',\n",
        "                  xaxis_title='Outcome',\n",
        "                  yaxis_title='Count')\n",
        "fig.show()\n"
      ],
      "metadata": {
        "colab": {
          "base_uri": "https://localhost:8080/",
          "height": 594
        },
        "id": "yyGtYETcqpfA",
        "outputId": "14b65131-9912-49d9-f14a-73435ec1a87a"
      },
      "execution_count": null,
      "outputs": [
        {
          "output_type": "stream",
          "name": "stdout",
          "text": [
            "Heads    505\n",
            "Tails    495\n",
            "Name: count, dtype: int64\n"
          ]
        },
        {
          "output_type": "display_data",
          "data": {
            "text/html": [
              "<html>\n",
              "<head><meta charset=\"utf-8\" /></head>\n",
              "<body>\n",
              "    <div>            <script src=\"https://cdnjs.cloudflare.com/ajax/libs/mathjax/2.7.5/MathJax.js?config=TeX-AMS-MML_SVG\"></script><script type=\"text/javascript\">if (window.MathJax && window.MathJax.Hub && window.MathJax.Hub.Config) {window.MathJax.Hub.Config({SVG: {font: \"STIX-Web\"}});}</script>                <script type=\"text/javascript\">window.PlotlyConfig = {MathJaxConfig: 'local'};</script>\n",
              "        <script charset=\"utf-8\" src=\"https://cdn.plot.ly/plotly-2.24.1.min.js\"></script>                <div id=\"2f61809f-4741-4cd0-a6bf-5affa5c4cd98\" class=\"plotly-graph-div\" style=\"height:525px; width:100%;\"></div>            <script type=\"text/javascript\">                                    window.PLOTLYENV=window.PLOTLYENV || {};                                    if (document.getElementById(\"2f61809f-4741-4cd0-a6bf-5affa5c4cd98\")) {                    Plotly.newPlot(                        \"2f61809f-4741-4cd0-a6bf-5affa5c4cd98\",                        [{\"x\":[\"Heads\",\"Tails\"],\"y\":[505,495],\"type\":\"bar\"}],                        {\"template\":{\"data\":{\"histogram2dcontour\":[{\"type\":\"histogram2dcontour\",\"colorbar\":{\"outlinewidth\":0,\"ticks\":\"\"},\"colorscale\":[[0.0,\"#0d0887\"],[0.1111111111111111,\"#46039f\"],[0.2222222222222222,\"#7201a8\"],[0.3333333333333333,\"#9c179e\"],[0.4444444444444444,\"#bd3786\"],[0.5555555555555556,\"#d8576b\"],[0.6666666666666666,\"#ed7953\"],[0.7777777777777778,\"#fb9f3a\"],[0.8888888888888888,\"#fdca26\"],[1.0,\"#f0f921\"]]}],\"choropleth\":[{\"type\":\"choropleth\",\"colorbar\":{\"outlinewidth\":0,\"ticks\":\"\"}}],\"histogram2d\":[{\"type\":\"histogram2d\",\"colorbar\":{\"outlinewidth\":0,\"ticks\":\"\"},\"colorscale\":[[0.0,\"#0d0887\"],[0.1111111111111111,\"#46039f\"],[0.2222222222222222,\"#7201a8\"],[0.3333333333333333,\"#9c179e\"],[0.4444444444444444,\"#bd3786\"],[0.5555555555555556,\"#d8576b\"],[0.6666666666666666,\"#ed7953\"],[0.7777777777777778,\"#fb9f3a\"],[0.8888888888888888,\"#fdca26\"],[1.0,\"#f0f921\"]]}],\"heatmap\":[{\"type\":\"heatmap\",\"colorbar\":{\"outlinewidth\":0,\"ticks\":\"\"},\"colorscale\":[[0.0,\"#0d0887\"],[0.1111111111111111,\"#46039f\"],[0.2222222222222222,\"#7201a8\"],[0.3333333333333333,\"#9c179e\"],[0.4444444444444444,\"#bd3786\"],[0.5555555555555556,\"#d8576b\"],[0.6666666666666666,\"#ed7953\"],[0.7777777777777778,\"#fb9f3a\"],[0.8888888888888888,\"#fdca26\"],[1.0,\"#f0f921\"]]}],\"heatmapgl\":[{\"type\":\"heatmapgl\",\"colorbar\":{\"outlinewidth\":0,\"ticks\":\"\"},\"colorscale\":[[0.0,\"#0d0887\"],[0.1111111111111111,\"#46039f\"],[0.2222222222222222,\"#7201a8\"],[0.3333333333333333,\"#9c179e\"],[0.4444444444444444,\"#bd3786\"],[0.5555555555555556,\"#d8576b\"],[0.6666666666666666,\"#ed7953\"],[0.7777777777777778,\"#fb9f3a\"],[0.8888888888888888,\"#fdca26\"],[1.0,\"#f0f921\"]]}],\"contourcarpet\":[{\"type\":\"contourcarpet\",\"colorbar\":{\"outlinewidth\":0,\"ticks\":\"\"}}],\"contour\":[{\"type\":\"contour\",\"colorbar\":{\"outlinewidth\":0,\"ticks\":\"\"},\"colorscale\":[[0.0,\"#0d0887\"],[0.1111111111111111,\"#46039f\"],[0.2222222222222222,\"#7201a8\"],[0.3333333333333333,\"#9c179e\"],[0.4444444444444444,\"#bd3786\"],[0.5555555555555556,\"#d8576b\"],[0.6666666666666666,\"#ed7953\"],[0.7777777777777778,\"#fb9f3a\"],[0.8888888888888888,\"#fdca26\"],[1.0,\"#f0f921\"]]}],\"surface\":[{\"type\":\"surface\",\"colorbar\":{\"outlinewidth\":0,\"ticks\":\"\"},\"colorscale\":[[0.0,\"#0d0887\"],[0.1111111111111111,\"#46039f\"],[0.2222222222222222,\"#7201a8\"],[0.3333333333333333,\"#9c179e\"],[0.4444444444444444,\"#bd3786\"],[0.5555555555555556,\"#d8576b\"],[0.6666666666666666,\"#ed7953\"],[0.7777777777777778,\"#fb9f3a\"],[0.8888888888888888,\"#fdca26\"],[1.0,\"#f0f921\"]]}],\"mesh3d\":[{\"type\":\"mesh3d\",\"colorbar\":{\"outlinewidth\":0,\"ticks\":\"\"}}],\"scatter\":[{\"fillpattern\":{\"fillmode\":\"overlay\",\"size\":10,\"solidity\":0.2},\"type\":\"scatter\"}],\"parcoords\":[{\"type\":\"parcoords\",\"line\":{\"colorbar\":{\"outlinewidth\":0,\"ticks\":\"\"}}}],\"scatterpolargl\":[{\"type\":\"scatterpolargl\",\"marker\":{\"colorbar\":{\"outlinewidth\":0,\"ticks\":\"\"}}}],\"bar\":[{\"error_x\":{\"color\":\"#2a3f5f\"},\"error_y\":{\"color\":\"#2a3f5f\"},\"marker\":{\"line\":{\"color\":\"#E5ECF6\",\"width\":0.5},\"pattern\":{\"fillmode\":\"overlay\",\"size\":10,\"solidity\":0.2}},\"type\":\"bar\"}],\"scattergeo\":[{\"type\":\"scattergeo\",\"marker\":{\"colorbar\":{\"outlinewidth\":0,\"ticks\":\"\"}}}],\"scatterpolar\":[{\"type\":\"scatterpolar\",\"marker\":{\"colorbar\":{\"outlinewidth\":0,\"ticks\":\"\"}}}],\"histogram\":[{\"marker\":{\"pattern\":{\"fillmode\":\"overlay\",\"size\":10,\"solidity\":0.2}},\"type\":\"histogram\"}],\"scattergl\":[{\"type\":\"scattergl\",\"marker\":{\"colorbar\":{\"outlinewidth\":0,\"ticks\":\"\"}}}],\"scatter3d\":[{\"type\":\"scatter3d\",\"line\":{\"colorbar\":{\"outlinewidth\":0,\"ticks\":\"\"}},\"marker\":{\"colorbar\":{\"outlinewidth\":0,\"ticks\":\"\"}}}],\"scattermapbox\":[{\"type\":\"scattermapbox\",\"marker\":{\"colorbar\":{\"outlinewidth\":0,\"ticks\":\"\"}}}],\"scatterternary\":[{\"type\":\"scatterternary\",\"marker\":{\"colorbar\":{\"outlinewidth\":0,\"ticks\":\"\"}}}],\"scattercarpet\":[{\"type\":\"scattercarpet\",\"marker\":{\"colorbar\":{\"outlinewidth\":0,\"ticks\":\"\"}}}],\"carpet\":[{\"aaxis\":{\"endlinecolor\":\"#2a3f5f\",\"gridcolor\":\"white\",\"linecolor\":\"white\",\"minorgridcolor\":\"white\",\"startlinecolor\":\"#2a3f5f\"},\"baxis\":{\"endlinecolor\":\"#2a3f5f\",\"gridcolor\":\"white\",\"linecolor\":\"white\",\"minorgridcolor\":\"white\",\"startlinecolor\":\"#2a3f5f\"},\"type\":\"carpet\"}],\"table\":[{\"cells\":{\"fill\":{\"color\":\"#EBF0F8\"},\"line\":{\"color\":\"white\"}},\"header\":{\"fill\":{\"color\":\"#C8D4E3\"},\"line\":{\"color\":\"white\"}},\"type\":\"table\"}],\"barpolar\":[{\"marker\":{\"line\":{\"color\":\"#E5ECF6\",\"width\":0.5},\"pattern\":{\"fillmode\":\"overlay\",\"size\":10,\"solidity\":0.2}},\"type\":\"barpolar\"}],\"pie\":[{\"automargin\":true,\"type\":\"pie\"}]},\"layout\":{\"autotypenumbers\":\"strict\",\"colorway\":[\"#636efa\",\"#EF553B\",\"#00cc96\",\"#ab63fa\",\"#FFA15A\",\"#19d3f3\",\"#FF6692\",\"#B6E880\",\"#FF97FF\",\"#FECB52\"],\"font\":{\"color\":\"#2a3f5f\"},\"hovermode\":\"closest\",\"hoverlabel\":{\"align\":\"left\"},\"paper_bgcolor\":\"white\",\"plot_bgcolor\":\"#E5ECF6\",\"polar\":{\"bgcolor\":\"#E5ECF6\",\"angularaxis\":{\"gridcolor\":\"white\",\"linecolor\":\"white\",\"ticks\":\"\"},\"radialaxis\":{\"gridcolor\":\"white\",\"linecolor\":\"white\",\"ticks\":\"\"}},\"ternary\":{\"bgcolor\":\"#E5ECF6\",\"aaxis\":{\"gridcolor\":\"white\",\"linecolor\":\"white\",\"ticks\":\"\"},\"baxis\":{\"gridcolor\":\"white\",\"linecolor\":\"white\",\"ticks\":\"\"},\"caxis\":{\"gridcolor\":\"white\",\"linecolor\":\"white\",\"ticks\":\"\"}},\"coloraxis\":{\"colorbar\":{\"outlinewidth\":0,\"ticks\":\"\"}},\"colorscale\":{\"sequential\":[[0.0,\"#0d0887\"],[0.1111111111111111,\"#46039f\"],[0.2222222222222222,\"#7201a8\"],[0.3333333333333333,\"#9c179e\"],[0.4444444444444444,\"#bd3786\"],[0.5555555555555556,\"#d8576b\"],[0.6666666666666666,\"#ed7953\"],[0.7777777777777778,\"#fb9f3a\"],[0.8888888888888888,\"#fdca26\"],[1.0,\"#f0f921\"]],\"sequentialminus\":[[0.0,\"#0d0887\"],[0.1111111111111111,\"#46039f\"],[0.2222222222222222,\"#7201a8\"],[0.3333333333333333,\"#9c179e\"],[0.4444444444444444,\"#bd3786\"],[0.5555555555555556,\"#d8576b\"],[0.6666666666666666,\"#ed7953\"],[0.7777777777777778,\"#fb9f3a\"],[0.8888888888888888,\"#fdca26\"],[1.0,\"#f0f921\"]],\"diverging\":[[0,\"#8e0152\"],[0.1,\"#c51b7d\"],[0.2,\"#de77ae\"],[0.3,\"#f1b6da\"],[0.4,\"#fde0ef\"],[0.5,\"#f7f7f7\"],[0.6,\"#e6f5d0\"],[0.7,\"#b8e186\"],[0.8,\"#7fbc41\"],[0.9,\"#4d9221\"],[1,\"#276419\"]]},\"xaxis\":{\"gridcolor\":\"white\",\"linecolor\":\"white\",\"ticks\":\"\",\"title\":{\"standoff\":15},\"zerolinecolor\":\"white\",\"automargin\":true,\"zerolinewidth\":2},\"yaxis\":{\"gridcolor\":\"white\",\"linecolor\":\"white\",\"ticks\":\"\",\"title\":{\"standoff\":15},\"zerolinecolor\":\"white\",\"automargin\":true,\"zerolinewidth\":2},\"scene\":{\"xaxis\":{\"backgroundcolor\":\"#E5ECF6\",\"gridcolor\":\"white\",\"linecolor\":\"white\",\"showbackground\":true,\"ticks\":\"\",\"zerolinecolor\":\"white\",\"gridwidth\":2},\"yaxis\":{\"backgroundcolor\":\"#E5ECF6\",\"gridcolor\":\"white\",\"linecolor\":\"white\",\"showbackground\":true,\"ticks\":\"\",\"zerolinecolor\":\"white\",\"gridwidth\":2},\"zaxis\":{\"backgroundcolor\":\"#E5ECF6\",\"gridcolor\":\"white\",\"linecolor\":\"white\",\"showbackground\":true,\"ticks\":\"\",\"zerolinecolor\":\"white\",\"gridwidth\":2}},\"shapedefaults\":{\"line\":{\"color\":\"#2a3f5f\"}},\"annotationdefaults\":{\"arrowcolor\":\"#2a3f5f\",\"arrowhead\":0,\"arrowwidth\":1},\"geo\":{\"bgcolor\":\"white\",\"landcolor\":\"#E5ECF6\",\"subunitcolor\":\"white\",\"showland\":true,\"showlakes\":true,\"lakecolor\":\"white\"},\"title\":{\"x\":0.05},\"mapbox\":{\"style\":\"light\"}}},\"title\":{\"text\":\"Results of Coin Tosses\"},\"xaxis\":{\"title\":{\"text\":\"Outcome\"}},\"yaxis\":{\"title\":{\"text\":\"Count\"}}},                        {\"responsive\": true}                    ).then(function(){\n",
              "                            \n",
              "var gd = document.getElementById('2f61809f-4741-4cd0-a6bf-5affa5c4cd98');\n",
              "var x = new MutationObserver(function (mutations, observer) {{\n",
              "        var display = window.getComputedStyle(gd).display;\n",
              "        if (!display || display === 'none') {{\n",
              "            console.log([gd, 'removed!']);\n",
              "            Plotly.purge(gd);\n",
              "            observer.disconnect();\n",
              "        }}\n",
              "}});\n",
              "\n",
              "// Listen for the removal of the full notebook cells\n",
              "var notebookContainer = gd.closest('#notebook-container');\n",
              "if (notebookContainer) {{\n",
              "    x.observe(notebookContainer, {childList: true});\n",
              "}}\n",
              "\n",
              "// Listen for the clearing of the current output cell\n",
              "var outputEl = gd.closest('.output');\n",
              "if (outputEl) {{\n",
              "    x.observe(outputEl, {childList: true});\n",
              "}}\n",
              "\n",
              "                        })                };                            </script>        </div>\n",
              "</body>\n",
              "</html>"
            ]
          },
          "metadata": {}
        }
      ]
    },
    {
      "cell_type": "markdown",
      "source": [
        "Binomial Distribution\n",
        "\n",
        "\n",
        "The Binomial distribution models the number of successes in a fixed number of independent Bernoulli trials (e.g., coin tosses). Each trial has two possible outcomes: success (e.g., heads) or failure (e.g., tails), with the same probability of success\n",
        "𝑝\n",
        "p.\n",
        "\n",
        "For a Binomial distribution with parameters\n",
        "𝑛\n",
        "n (number of trials) and\n",
        "𝑝\n",
        "p (probability of success), the probability of getting exactly\n",
        "𝑘\n",
        "k successes (e.g., heads) in\n",
        "𝑛\n",
        "n trials is given by:\n",
        "\n",
        "𝑃\n",
        "(\n",
        "𝑋\n",
        "=\n",
        "𝑘\n",
        ")\n",
        "=\n",
        "(\n",
        "𝑛\n",
        "𝑘\n",
        ")\n",
        "𝑝\n",
        "𝑘\n",
        "(\n",
        "1\n",
        "−\n",
        "𝑝\n",
        ")\n",
        "𝑛\n",
        "−\n",
        "𝑘\n",
        "P(X=k)=(\n",
        "k\n",
        "n\n",
        "​\n",
        " )p\n",
        "k\n",
        " (1−p)\n",
        "n−k\n",
        "\n",
        "\n",
        "where\n",
        "(\n",
        "𝑛\n",
        "𝑘\n",
        ")\n",
        "(\n",
        "k\n",
        "n\n",
        "​\n",
        " ) is the binomial coefficient, calculated as:\n",
        "\n",
        "(\n",
        "𝑛\n",
        "𝑘\n",
        ")\n",
        "=\n",
        "𝑛\n",
        "!\n",
        "𝑘\n",
        "!\n",
        "(\n",
        "𝑛\n",
        "−\n",
        "𝑘\n",
        ")\n",
        "!\n",
        "(\n",
        "k\n",
        "n\n",
        "​\n",
        " )=\n",
        "k!(n−k)!\n",
        "n!\n",
        "​\n",
        "\n",
        "\n",
        "Example:\n",
        "\n",
        "Probability of Getting 7 Heads in 20 Tosses\n",
        "\n",
        "Let's use Python to calculate the probability of getting exactly 7 heads in 20 coin tosses and visualize the Binomial distribution."
      ],
      "metadata": {
        "id": "qt3n3bcQq_Ke"
      }
    },
    {
      "cell_type": "code",
      "source": [
        "import numpy as np\n",
        "import scipy.stats as stats\n",
        "import matplotlib.pyplot as plt\n",
        "import seaborn as sns\n",
        "\n",
        "# Parameters for the Binomial distribution\n",
        "n = 20  # Number of trials\n",
        "p = 0.5  # Probability of success (heads)\n",
        "\n",
        "# Probability of getting exactly 7 heads in 20 tosses\n",
        "k = 7\n",
        "prob_7_heads = stats.binom.pmf(k, n, p)\n",
        "print(f\"Probability of getting exactly 7 heads in 20 tosses: {prob_7_heads:.4f}\")\n",
        "\n",
        "# Plot the Binomial distribution\n",
        "x = np.arange(0, n+1)\n",
        "binom_pmf = stats.binom.pmf(x, n, p)\n",
        "\n",
        "plt.figure(figsize=(10, 6))\n",
        "sns.barplot(x=x, y=binom_pmf, palette=\"viridis\")\n",
        "plt.title(\"Binomial Distribution: n=20, p=0.5\")\n",
        "plt.xlabel(\"Number of Heads\")\n",
        "plt.ylabel(\"Probability\")\n",
        "plt.show()\n"
      ],
      "metadata": {
        "colab": {
          "base_uri": "https://localhost:8080/",
          "height": 723
        },
        "id": "egAbjlvOrHrN",
        "outputId": "7b29b36b-d447-4098-d8c6-3f559b0b47a0"
      },
      "execution_count": null,
      "outputs": [
        {
          "output_type": "stream",
          "name": "stdout",
          "text": [
            "Probability of getting exactly 7 heads in 20 tosses: 0.0739\n"
          ]
        },
        {
          "output_type": "stream",
          "name": "stderr",
          "text": [
            "<ipython-input-3-5da6016b69d5>:20: FutureWarning:\n",
            "\n",
            "\n",
            "\n",
            "Passing `palette` without assigning `hue` is deprecated and will be removed in v0.14.0. Assign the `x` variable to `hue` and set `legend=False` for the same effect.\n",
            "\n",
            "\n"
          ]
        },
        {
          "output_type": "display_data",
          "data": {
            "text/plain": [
              "<Figure size 1000x600 with 1 Axes>"
            ],
            "image/png": "[encoded data removed]"
          },
          "metadata": {}
        }
      ]
    },
    {
      "cell_type": "markdown",
      "source": [
        "Solution to Card Probability Problems\n",
        "\n",
        "Problem 1:\n",
        "\n",
        "Probability of Drawing a Numbered Card\n",
        "\n",
        "\n",
        "There are 36 numbered cards (4 of each from 2 to 10) in a 52-card deck.\n",
        " The probability of drawing a numbered card is:\n",
        "𝑃\n",
        "(\n",
        "Numbered Card\n",
        ")\n",
        "=\n",
        "36/\n",
        "52\n",
        "=\n",
        "9/\n",
        "13\n",
        "\n"
      ],
      "metadata": {
        "id": "HZhTeBFJrjVP"
      }
    },
    {
      "cell_type": "code",
      "source": [
        "# Total number of cards\n",
        "total_cards = 52\n",
        "\n",
        "# Number of numbered cards (4 each of 2 to 10)\n",
        "numbered_cards = 4 * 9\n",
        "\n",
        "# Probability of drawing a numbered card\n",
        "prob_numbered_card = numbered_cards / total_cards\n",
        "print(f\"Probability of drawing a numbered card: {prob_numbered_card:.4f}\")\n"
      ],
      "metadata": {
        "colab": {
          "base_uri": "https://localhost:8080/"
        },
        "id": "xPM8UgfjsAFE",
        "outputId": "c248df8b-2b5c-407c-b61a-2402865dfbb0"
      },
      "execution_count": null,
      "outputs": [
        {
          "output_type": "stream",
          "name": "stdout",
          "text": [
            "Probability of drawing a numbered card: 0.6923\n"
          ]
        }
      ]
    },
    {
      "cell_type": "markdown",
      "source": [
        "Problem 2:\n",
        "\n",
        "Probability of Drawing Two Numbered Cards with Replacement\n",
        "\n",
        "Since the draws are independent (because of replacement), the probability of drawing two numbered cards is:\n",
        "𝑃\n",
        "(\n",
        "Two Numbered Cards\n",
        ")\n",
        "=\n",
        "𝑃\n",
        "(\n",
        "Numbered Card\n",
        ")\n",
        "×\n",
        "𝑃\n",
        "(\n",
        "Numbered Card\n",
        ")\n",
        "=\n",
        "(\n",
        "36/\n",
        "52\n",
        ")^\n",
        "2\n",
        "=\n",
        "(\n",
        "9/\n",
        "13\n",
        ")^\n",
        "2\n"
      ],
      "metadata": {
        "id": "9HxmObZBsI3f"
      }
    },
    {
      "cell_type": "code",
      "source": [
        "# Probability of drawing two numbered cards with replacement\n",
        "prob_two_numbered_cards_replacement = prob_numbered_card ** 2\n",
        "print(f\"Probability of drawing two numbered cards with replacement: {prob_two_numbered_cards_replacement:.4f}\")\n"
      ],
      "metadata": {
        "id": "F6KU6egDsecn"
      },
      "execution_count": null,
      "outputs": []
    },
    {
      "cell_type": "markdown",
      "source": [
        "Problem 3:\n",
        "\n",
        "Probability of Drawing Two Numbered Cards without Replacement\n",
        "\n",
        "\n",
        "Without replacement, the probability of drawing the second numbered card changes after the first draw:\n",
        "𝑃\n",
        "(\n",
        "Two Numbered Cards\n",
        ")\n",
        "=\n",
        "𝑃\n",
        "(\n",
        "Numbered Card\n",
        ")\n",
        "×\n",
        "𝑃\n",
        "(\n",
        "Numbered Card\n",
        "∣\n",
        "First Numbered Card\n",
        ")\n",
        "\n",
        "=\n",
        "36/\n",
        "52\n",
        "×\n",
        "35/\n",
        "51\n",
        "=\n",
        "52/\n",
        "36\n",
        "​\n",
        " ×\n",
        "51/\n",
        "35\n",
        "​\n"
      ],
      "metadata": {
        "id": "0PQj_ziHsic3"
      }
    },
    {
      "cell_type": "code",
      "source": [
        "# Probability of drawing two numbered cards without replacement\n",
        "prob_two_numbered_cards_no_replacement = (numbered_cards / total_cards) * ((numbered_cards - 1) / (total_cards - 1))\n",
        "print(f\"Probability of drawing two numbered cards without replacement: {prob_two_numbered_cards_no_replacement:.4f}\")\n"
      ],
      "metadata": {
        "id": "TrqrRtJKs6Qd"
      },
      "execution_count": null,
      "outputs": []
    },
    {
      "cell_type": "markdown",
      "source": [
        "Problem 4:\n",
        "\n",
        "Probability of Cutting the Deck at a Random Location and the Bottom Card is a Numbered Card\n",
        "\n",
        "When you cut the deck at a random location, every card has an equal probability of being the bottom card of the top part. Hence, the probability that the bottom card is a numbered card is simply the probability of drawing a numbered card from the deck:\n",
        "\n",
        "𝑃\n",
        "(\n",
        "Numbered Card\n",
        ")\n",
        "=\n",
        "36/\n",
        "52\n",
        "=\n",
        "9/\n",
        "13\n"
      ],
      "metadata": {
        "id": "WIW_J_Ees9kr"
      }
    },
    {
      "cell_type": "code",
      "source": [
        "# Probability of the bottom card of the cut being a numbered card\n",
        "prob_bottom_card_numbered = prob_numbered_card\n",
        "print(f\"Probability of the bottom card of the cut being a numbered card: {prob_bottom_card_numbered:.4f}\")\n"
      ],
      "metadata": {
        "id": "5axLVvWEtKsg"
      },
      "execution_count": null,
      "outputs": []
    },
    {
      "cell_type": "markdown",
      "source": [
        "Simple overall code:"
      ],
      "metadata": {
        "id": "LskBLKRutNg7"
      }
    },
    {
      "cell_type": "code",
      "source": [
        "# Total number of cards\n",
        "total_cards = 52\n",
        "\n",
        "# Number of numbered cards (4 each of 2 to 10)\n",
        "numbered_cards = 4 * 9\n",
        "\n",
        "# Probability of drawing a numbered card\n",
        "prob_numbered_card = numbered_cards / total_cards\n",
        "print(f\"Probability of drawing a numbered card: {prob_numbered_card:.4f}\")\n",
        "\n",
        "# Probability of drawing two numbered cards with replacement\n",
        "prob_two_numbered_cards_replacement = prob_numbered_card ** 2\n",
        "print(f\"Probability of drawing two numbered cards with replacement: {prob_two_numbered_cards_replacement:.4f}\")\n",
        "\n",
        "# Probability of drawing two numbered cards without replacement\n",
        "prob_two_numbered_cards_no_replacement = (numbered_cards / total_cards) * ((numbered_cards - 1) / (total_cards - 1))\n",
        "print(f\"Probability of drawing two numbered cards without replacement: {prob_two_numbered_cards_no_replacement:.4f}\")\n",
        "\n",
        "# Probability of the bottom card of the cut being a numbered card\n",
        "prob_bottom_card_numbered = prob_numbered_card\n",
        "print(f\"Probability of the bottom card of the cut being a numbered card: {prob_bottom_card_numbered:.4f}\")\n"
      ],
      "metadata": {
        "id": "VQjktiRvtQZN"
      },
      "execution_count": null,
      "outputs": []
    },
    {
      "cell_type": "markdown",
      "source": [
        "What is expectation?\n",
        "\n",
        "In probability and statistics, the expectation (or expected value) of a random variable is a measure of the center of its distribution, analogous to the mean in a set of data. It provides a single summary value that represents the average outcome if an experiment were to be repeated many times.\n",
        "\n",
        "Mathematical Definition\n",
        "For a discrete random variable\n",
        "𝑋\n",
        "X with possible values\n",
        "𝑥\n",
        "1\n",
        ",\n",
        "𝑥\n",
        "2\n",
        ",\n",
        "…\n",
        ",\n",
        "𝑥\n",
        "𝑛\n",
        "x\n",
        "1\n",
        "​\n",
        " ,x\n",
        "2\n",
        "​\n",
        " ,…,x\n",
        "n\n",
        "​\n",
        "  and corresponding probabilities\n",
        "𝑝\n",
        "1\n",
        ",\n",
        "𝑝\n",
        "2\n",
        ",\n",
        "…\n",
        ",\n",
        "𝑝\n",
        "𝑛\n",
        "p\n",
        "1\n",
        "​\n",
        " ,p\n",
        "2\n",
        "​\n",
        " ,…,p\n",
        "n\n",
        "​\n",
        " , the expected value\n",
        "𝐸\n",
        "(\n",
        "𝑋\n",
        ")\n",
        "E(X) is defined as:\n",
        "\n",
        "𝐸\n",
        "(\n",
        "𝑋\n",
        ")\n",
        "=\n",
        "∑\n",
        "𝑖\n",
        "=\n",
        "1\n",
        "𝑛\n",
        "𝑥\n",
        "𝑖\n",
        "𝑝\n",
        "𝑖\n",
        "E(X)=∑\n",
        "i=1\n",
        "n\n",
        "​\n",
        " x\n",
        "i\n",
        "​\n",
        " p\n",
        "i\n",
        "​\n",
        "\n",
        "\n",
        "For a continuous random variable\n",
        "𝑋\n",
        "X with probability density function\n",
        "𝑓\n",
        "(\n",
        "𝑥\n",
        ")\n",
        "f(x), the expected value\n",
        "𝐸\n",
        "(\n",
        "𝑋\n",
        ")\n",
        "E(X) is defined as:\n",
        "\n",
        "𝐸\n",
        "(\n",
        "𝑋\n",
        ")\n",
        "=\n",
        "∫\n",
        "−\n",
        "∞\n",
        "∞\n",
        "𝑥\n",
        "𝑓\n",
        "(\n",
        "𝑥\n",
        ")\n",
        "\n",
        "𝑑\n",
        "𝑥\n",
        "E(X)=∫\n",
        "−∞\n",
        "∞\n",
        "​\n",
        " xf(x)dx"
      ],
      "metadata": {
        "id": "TG7i6TRTRFeV"
      }
    },
    {
      "cell_type": "code",
      "source": [
        "# Importing the necessary library\n",
        "import numpy as np\n",
        "\n",
        "# Define the possible outcomes and their probabilities\n",
        "outcomes = np.array([1, 2, 3, 4, 5, 6])\n",
        "probabilities = np.array([1/6] * 6)\n",
        "\n",
        "# Calculate the expected value\n",
        "expected_value = np.sum(outcomes * probabilities)\n",
        "expected_value\n"
      ],
      "metadata": {
        "colab": {
          "base_uri": "https://localhost:8080/"
        },
        "id": "1jlGhQWIRNn9",
        "outputId": "3eb9d4ca-1a92-4eea-f084-164a6d503d3d"
      },
      "execution_count": 1,
      "outputs": [
        {
          "output_type": "execute_result",
          "data": {
            "text/plain": [
              "3.5"
            ]
          },
          "metadata": {},
          "execution_count": 1
        }
      ]
    },
    {
      "cell_type": "markdown",
      "source": [
        " Suppose we have a discrete random variable representing the outcome of rolling a fair six-sided die. The possible outcomes are 1 through 6, each with a probability of\n",
        "1/\n",
        "6\n"
      ],
      "metadata": {
        "id": "YQh0r_VZRR6X"
      }
    },
    {
      "cell_type": "markdown",
      "source": [
        "Basic Concepts in Probability\n",
        "\n",
        "Probability:\n",
        "Probability quantifies the likelihood of an event occurring. It ranges from 0 to 1, where 0 means the event cannot happen and 1 means the event is certain to happen.\n",
        "\n",
        "𝑃\n",
        "(\n",
        "𝐴\n",
        ")\n",
        "=\n",
        "Number of favorable outcomes\n",
        "Total number of outcomes\n",
        "P(A)=\n",
        "Total number of outcomes\n",
        "Number of favorable outcomes\n",
        "​\n",
        "\n",
        "Random Variable:\n",
        "A random variable is a variable whose possible values are numerical outcomes of a random phenomenon.\n",
        "\n",
        "Probability Distribution:\n",
        "A probability distribution describes how probabilities are distributed over the values of the random variable.\n",
        "\n",
        "Types of Probability Distributions\n",
        "\n",
        "Discrete Probability Distribution:\n",
        "Deals with discrete random variables (e.g., rolling a die).\n",
        "\n",
        "Continuous Probability Distribution:\n",
        "Deals with continuous random variables (e.g., measuring the height of people)."
      ],
      "metadata": {
        "id": "Ic-rUT2qRzHZ"
      }
    },
    {
      "cell_type": "markdown",
      "source": [
        "Example 1: Discrete Probability Distribution\n",
        "Problem\n",
        "\n",
        "Consider a fair six-sided die. Calculate the probability of each outcome and plot the probability distribution."
      ],
      "metadata": {
        "id": "Hin6j7QRR7y9"
      }
    },
    {
      "cell_type": "code",
      "source": [
        "import numpy as np\n",
        "import matplotlib.pyplot as plt\n",
        "\n",
        "# Define the possible outcomes\n",
        "outcomes = np.array([1, 2, 3, 4, 5, 6])\n",
        "# Define the probability of each outcome\n",
        "probabilities = np.array([1/6] * 6)\n",
        "\n",
        "# Plot the probability distribution\n",
        "plt.stem(outcomes, probabilities, basefmt=\" \", use_line_collection=True)\n",
        "plt.xlabel('Outcome')\n",
        "plt.ylabel('Probability')\n",
        "plt.title('Probability Distribution of a Fair Six-Sided Die')\n",
        "plt.show()\n",
        "\n",
        "# Calculate the probability of rolling a 4\n",
        "P_4 = probabilities[3]\n",
        "P_4\n"
      ],
      "metadata": {
        "id": "5Z3awpdFSAkG"
      },
      "execution_count": null,
      "outputs": []
    },
    {
      "cell_type": "markdown",
      "source": [
        "Example 2:\n",
        "\n",
        " Continuous Probability Distribution\n",
        "Problem\n",
        "\n",
        "Consider a normal distribution with mean\n",
        "𝜇\n",
        "=\n",
        "0\n",
        " and standard deviation\n",
        "𝜎\n",
        "=\n",
        "1\n",
        " Plot the probability density function."
      ],
      "metadata": {
        "id": "7FK06gd7SE6V"
      }
    },
    {
      "cell_type": "code",
      "source": [
        "from scipy.stats import norm\n",
        "import numpy as np\n",
        "import matplotlib.pyplot as plt\n",
        "\n",
        "# Define the mean and standard deviation\n",
        "mu, sigma = 0, 1\n",
        "# Create a range of values\n",
        "x = np.linspace(-5, 5, 1000)\n",
        "# Calculate the probability density function\n",
        "pdf = norm.pdf(x, mu, sigma)\n",
        "\n",
        "# Plot the probability density function\n",
        "plt.plot(x, pdf, label='Normal Distribution')\n",
        "plt.xlabel('x')\n",
        "plt.ylabel('Probability Density')\n",
        "plt.title('Normal Distribution (μ=0, σ=1)')\n",
        "plt.legend()\n",
        "plt.show()\n"
      ],
      "metadata": {
        "id": "Yy-k9am9SOy1"
      },
      "execution_count": null,
      "outputs": []
    },
    {
      "cell_type": "markdown",
      "source": [
        "Key Concepts in Probability Theory\n",
        "\n",
        "Law of Large Numbers:\n",
        "\n",
        "As the number of trials increases, the sample mean will converge to the expected value.\n",
        "\n",
        "Central Limit Theorem:\n",
        "\n",
        "The distribution of the sum (or average) of a large number of independent, identically distributed random variables will be approximately normal, regardless of the underlying distribution."
      ],
      "metadata": {
        "id": "qf30mOoMSXc-"
      }
    },
    {
      "cell_type": "code",
      "source": [
        "import numpy as np\n",
        "import matplotlib.pyplot as plt\n",
        "\n",
        "# Define the number of trials\n",
        "n_trials = 10000\n",
        "# Simulate rolling a fair six-sided die\n",
        "rolls = np.random.randint(1, 7, size=n_trials)\n",
        "# Calculate the cumulative mean\n",
        "cumulative_mean = np.cumsum(rolls) / np.arange(1, n_trials + 1)\n",
        "\n",
        "# Plot the cumulative mean\n",
        "plt.plot(cumulative_mean, label='Cumulative Mean')\n",
        "plt.axhline(y=3.5, color='r', linestyle='--', label='Expected Value (3.5)')\n",
        "plt.xlabel('Number of Trials')\n",
        "plt.ylabel('Cumulative Mean')\n",
        "plt.title('Law of Large Numbers')\n",
        "plt.legend()\n",
        "plt.show()\n"
      ],
      "metadata": {
        "id": "aSfgX3XmScq5"
      },
      "execution_count": null,
      "outputs": []
    },
    {
      "cell_type": "markdown",
      "source": [
        "Let's demonstrate the Central Limit Theorem by simulating the process of drawing samples from a non-normal distribution (e.g., a uniform distribution) and observing how the distribution of the sample means approaches a normal distribution as the sample size increases."
      ],
      "metadata": {
        "id": "gvO8QeblSs-s"
      }
    },
    {
      "cell_type": "code",
      "source": [
        "import numpy as np\n",
        "import matplotlib.pyplot as plt\n",
        "import seaborn as sns\n",
        "\n",
        "# Set the random seed for reproducibility\n",
        "np.random.seed(0)\n",
        "\n",
        "# Define the number of samples and the sample size\n",
        "n_samples = 10000\n",
        "sample_size = 30\n",
        "\n",
        "# Draw samples from a uniform distribution\n",
        "uniform_samples = np.random.uniform(0, 1, (n_samples, sample_size))\n",
        "\n",
        "# Calculate the sample means\n",
        "sample_means = uniform_samples.mean(axis=1)\n",
        "\n",
        "# Plot the distribution of sample means\n",
        "sns.histplot(sample_means, kde=True, stat='density')\n",
        "plt.xlabel('Sample Mean')\n",
        "plt.ylabel('Density')\n",
        "plt.title('Distribution of Sample Means (Uniform Distribution, Sample Size = 30)')\n",
        "plt.axvline(np.mean(sample_means), color='r', linestyle='dashed', linewidth=1)\n",
        "plt.show()\n"
      ],
      "metadata": {
        "id": "QhqG_KdLSuaQ"
      },
      "execution_count": null,
      "outputs": []
    },
    {
      "cell_type": "markdown",
      "source": [
        "As the sample size increases, the distribution of the sample means will increasingly resemble a normal distribution, even though the original data is uniformly distributed. This demonstrates the Central Limit Theorem in action."
      ],
      "metadata": {
        "id": "w680wYZ4SyOi"
      }
    },
    {
      "cell_type": "markdown",
      "source": [
        "Various Probability Distribution\n",
        "\n",
        "In probability theory and statistics, different types of probability distributions are used to model various types of data.\n",
        "1. Uniform Distribution\n",
        "\n",
        "\n",
        "A uniform distribution is where all outcomes are equally likely.\n",
        "For a discrete uniform distribution, this could be rolling a fair die.\n",
        "For a continuous uniform distribution, this could be any number within a specified range."
      ],
      "metadata": {
        "id": "xS26jLrQTGGa"
      }
    },
    {
      "cell_type": "code",
      "source": [
        "import numpy as np\n",
        "import matplotlib.pyplot as plt\n",
        "\n",
        "# Discrete uniform distribution (e.g., rolling a die)\n",
        "outcomes = np.arange(1, 7)\n",
        "probabilities = np.ones(6) / 6\n",
        "\n",
        "# Plotting the discrete uniform distribution\n",
        "plt.stem(outcomes, probabilities, basefmt=\" \", use_line_collection=True)\n",
        "plt.xlabel('Outcome')\n",
        "plt.ylabel('Probability')\n",
        "plt.title('Discrete Uniform Distribution (Rolling a Fair Die)')\n",
        "plt.show()\n",
        "\n",
        "# Continuous uniform distribution (e.g., any number between 0 and 1)\n",
        "samples = np.random.uniform(0, 1, 10000)\n",
        "\n",
        "# Plotting the continuous uniform distribution\n",
        "plt.hist(samples, bins=50, density=True)\n",
        "plt.xlabel('Value')\n",
        "plt.ylabel('Density')\n",
        "plt.title('Continuous Uniform Distribution')\n",
        "plt.show()\n"
      ],
      "metadata": {
        "id": "8INycvZDTPb0"
      },
      "execution_count": null,
      "outputs": []
    },
    {
      "cell_type": "markdown",
      "source": [
        "2. Normal Distribution\n",
        "\n",
        "Also known as the Gaussian distribution.\n",
        "It is symmetric around the mean and characterized by its mean (µ) and standard deviation (σ)."
      ],
      "metadata": {
        "id": "PYbcbj0HTR5b"
      }
    },
    {
      "cell_type": "code",
      "source": [
        "from scipy.stats import norm\n",
        "import numpy as np\n",
        "import matplotlib.pyplot as plt\n",
        "\n",
        "# Define the parameters of the distribution\n",
        "mu, sigma = 0, 1\n",
        "x = np.linspace(-5, 5, 1000)\n",
        "pdf = norm.pdf(x, mu, sigma)\n",
        "\n",
        "# Plotting the normal distribution\n",
        "plt.plot(x, pdf, label='Normal Distribution (µ=0, σ=1)')\n",
        "plt.xlabel('Value')\n",
        "plt.ylabel('Probability Density')\n",
        "plt.title('Normal Distribution')\n",
        "plt.legend()\n",
        "plt.show()\n"
      ],
      "metadata": {
        "id": "MGOCgt4UTXVq"
      },
      "execution_count": null,
      "outputs": []
    },
    {
      "cell_type": "markdown",
      "source": [
        "3. Binomial Distribution\n",
        "\n",
        "\n",
        "Describes the number of successes in a fixed number of independent Bernoulli trials (e.g., flipping a coin)."
      ],
      "metadata": {
        "id": "5o7afiByTcjq"
      }
    },
    {
      "cell_type": "code",
      "source": [
        "from scipy.stats import binom\n",
        "import numpy as np\n",
        "import matplotlib.pyplot as plt\n",
        "\n",
        "# Define the parameters of the distribution\n",
        "n, p = 10, 0.5  # number of trials, probability of success\n",
        "x = np.arange(0, n + 1)\n",
        "pmf = binom.pmf(x, n, p)\n",
        "\n",
        "# Plotting the binomial distribution\n",
        "plt.stem(x, pmf, basefmt=\" \", use_line_collection=True)\n",
        "plt.xlabel('Number of Successes')\n",
        "plt.ylabel('Probability')\n",
        "plt.title('Binomial Distribution (n=10, p=0.5)')\n",
        "plt.show()\n"
      ],
      "metadata": {
        "id": "jKyULuB2TetX"
      },
      "execution_count": null,
      "outputs": []
    },
    {
      "cell_type": "markdown",
      "source": [
        "4. Poisson Distribution\n",
        "\n",
        "Describes the number of events occurring in a fixed interval of time or space.\n",
        "Suitable for modeling the count of events that happen independently at a constant average rate."
      ],
      "metadata": {
        "id": "DQp8MxQmThlb"
      }
    },
    {
      "cell_type": "code",
      "source": [
        "from scipy.stats import poisson\n",
        "import numpy as np\n",
        "import matplotlib.pyplot as plt\n",
        "\n",
        "# Define the parameter of the distribution\n",
        "lambda_ = 3  # average number of events per interval\n",
        "x = np.arange(0, 15)\n",
        "pmf = poisson.pmf(x, lambda_)\n",
        "\n",
        "# Plotting the Poisson distribution\n",
        "plt.stem(x, pmf, basefmt=\" \", use_line_collection=True)\n",
        "plt.xlabel('Number of Events')\n",
        "plt.ylabel('Probability')\n",
        "plt.title('Poisson Distribution (λ=3)')\n",
        "plt.show()\n"
      ],
      "metadata": {
        "id": "7i8c846NTl1N"
      },
      "execution_count": null,
      "outputs": []
    },
    {
      "cell_type": "markdown",
      "source": [
        "These examples illustrate some of the most commonly used probability distributions, along with their corresponding Python code to visualize them. Each distribution is useful for modeling different types of data and understanding the underlying patterns in various contexts."
      ],
      "metadata": {
        "id": "F_iQoZ_3Tq8W"
      }
    }
  ]
}